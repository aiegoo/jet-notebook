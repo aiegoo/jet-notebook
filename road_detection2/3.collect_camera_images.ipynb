{
 "cells": [
  {
   "cell_type": "markdown",
   "metadata": {},
   "source": [
    "# Camera image snapshot "
   ]
  },
  {
   "cell_type": "code",
   "execution_count": 1,
   "metadata": {},
   "outputs": [],
   "source": [
    "from jetbot import Camera\n",
    "from jetbot import bgr8_to_jpeg\n",
    "import ipywidgets.widgets as widgets\n",
    "import traitlets\n",
    "import matplotlib.pyplot as plt\n",
    "import cv2, subprocess, uuid"
   ]
  },
  {
   "cell_type": "code",
   "execution_count": 2,
   "metadata": {},
   "outputs": [
    {
     "data": {
      "application/vnd.jupyter.widget-view+json": {
       "model_id": "23643e8cf9b84ffca9e523fcc3d18fd6",
       "version_major": 2,
       "version_minor": 0
      },
      "text/plain": [
       "HBox(children=(Image(value=b'\\xff\\xd8\\xff\\xe0\\x00\\x10JFIF\\x00\\x01\\x01\\x00\\x00\\x01\\x00\\x01\\x00\\x00\\xff\\xdb\\x00C…"
      ]
     },
     "metadata": {},
     "output_type": "display_data"
    }
   ],
   "source": [
    "camera = Camera.instance()\n",
    "image = widgets.Image(format='jpeg', width=224, height=224)\n",
    "snapshots = widgets.Image(format='jpeg', width=224, height=224)\n",
    "camera_link = traitlets.dlink((camera, 'value'), (image, 'value'), transform=bgr8_to_jpeg)\n",
    "\n",
    "button_layout = widgets.Layout(width='100px', height='80px')\n",
    "button_snapshot = widgets.Button(description='snapshot', layout=button_layout)\n",
    "\n",
    "middle_box = widgets.HBox([image, snapshots, button_snapshot], layout=widgets.Layout(align_self='center'))\n",
    "display(middle_box)"
   ]
  },
  {
   "cell_type": "code",
   "execution_count": 3,
   "metadata": {},
   "outputs": [],
   "source": [
    "subprocess.call(['mkdir', '-p', 'snapshots'])\n",
    "def save_snapshot(change):\n",
    "    file_path = 'snapshots/' + str(uuid.uuid1()) + '.jpg'\n",
    "    with open(file_path, 'wb') as f:\n",
    "        f.write(image.value)\n",
    "\n",
    "    # display snapshot that was saved\n",
    "    snapshots.value = image.value\n",
    "    print('file_path')"
   ]
  },
  {
   "cell_type": "code",
   "execution_count": 4,
   "metadata": {},
   "outputs": [],
   "source": [
    "button_snapshot.on_click(save_snapshot)"
   ]
  },
  {
   "cell_type": "code",
   "execution_count": null,
   "metadata": {},
   "outputs": [],
   "source": []
  }
 ],
 "metadata": {
  "kernelspec": {
   "display_name": "Python 3",
   "language": "python",
   "name": "python3"
  },
  "language_info": {
   "codemirror_mode": {
    "name": "ipython",
    "version": 3
   },
   "file_extension": ".py",
   "mimetype": "text/x-python",
   "name": "python",
   "nbconvert_exporter": "python",
   "pygments_lexer": "ipython3",
   "version": "3.6.9"
  }
 },
 "nbformat": 4,
 "nbformat_minor": 4
}
